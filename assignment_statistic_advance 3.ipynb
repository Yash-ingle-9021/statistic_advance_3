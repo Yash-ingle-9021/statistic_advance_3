{
 "cells": [
  {
   "cell_type": "markdown",
   "id": "e5a8d64e-f616-4339-838c-67ad806924e2",
   "metadata": {},
   "source": [
    "# ASSIGNMENT STATISTIC ADVANCE 3"
   ]
  },
  {
   "cell_type": "code",
   "execution_count": 1,
   "id": "0cab2268-bc2f-4ed2-be28-0a239685ed29",
   "metadata": {},
   "outputs": [
    {
     "name": "stdout",
     "output_type": "stream",
     "text": [
      "Q_1_ANS :- Estimate :- It is an observed numarical value used to estimate the unknown population parameters.\n",
      "\n",
      "Point Estimate :- Single numerical value used to estimate the unknown population value.\n",
      "\n",
      "Intirval Estimate :- Range of value used to estiate the unknown population parameters.\n",
      "\n",
      "Intirval Estimate of population parameters are called Confidence Intirval.\n"
     ]
    }
   ],
   "source": [
    "print(\"Q_1_ANS :- Estimate :- It is an observed numarical value used to estimate the unknown population parameters.\\n\\nPoint Estimate :- Single numerical value used to estimate the unknown population value.\\n\\nIntirval Estimate :- Range of value used to estiate the unknown population parameters.\\n\\nIntirval Estimate of population parameters are called Confidence Intirval.\")"
   ]
  },
  {
   "cell_type": "code",
   "execution_count": 2,
   "id": "0f6e9261-5c6a-4e3c-93a6-44f874681465",
   "metadata": {},
   "outputs": [
    {
     "name": "stdout",
     "output_type": "stream",
     "text": [
      "Q_2_ANS :-  \n"
     ]
    }
   ],
   "source": [
    "print(\"Q_2_ANS :-  \")"
   ]
  },
  {
   "cell_type": "code",
   "execution_count": 3,
   "id": "b183cd6b-e463-4753-a041-d0f5bc7598c1",
   "metadata": {},
   "outputs": [
    {
     "name": "stdout",
     "output_type": "stream",
     "text": [
      "Estimated population mean:  10.5\n"
     ]
    }
   ],
   "source": [
    "def estimate_population_mean(sample_mean, sample_std_dev, sample_size):\n",
    "    import math\n",
    "    \n",
    "    # Calculate the standard error of the mean\n",
    "    standard_error = sample_std_dev / math.sqrt(sample_size)\n",
    "    \n",
    "    # Calculate the margin of error (using a 95% confidence interval)\n",
    "    margin_of_error = 1.96 * standard_error\n",
    "    \n",
    "    # Calculate the lower and upper bounds of the confidence interval\n",
    "    lower_bound = sample_mean - margin_of_error\n",
    "    upper_bound = sample_mean + margin_of_error\n",
    "    \n",
    "    # Return the estimated population mean\n",
    "    return (lower_bound + upper_bound) / 2\n",
    "\n",
    "sample_mean = 10.5\n",
    "sample_std_dev = 2.5\n",
    "sample_size = 100\n",
    "\n",
    "estimated_mean = estimate_population_mean(sample_mean, sample_std_dev, sample_size)\n",
    "\n",
    "print(\"Estimated population mean: \", estimated_mean)\n"
   ]
  },
  {
   "cell_type": "code",
   "execution_count": 4,
   "id": "83d4e3ba-03d1-40c6-97c9-ae6b158d064e",
   "metadata": {},
   "outputs": [
    {
     "name": "stdout",
     "output_type": "stream",
     "text": [
      "Q_3_ANS :- Hypothesis :- Hypothesis Testing is a type of statistical analysis in which you put your assumptions about a population parameter to the test. It is used to estimate the relationship between 2 statistical variables.\n",
      "It is used to find  conclution.\n",
      "It is how you determine if something happened, or if particular treatments have positive effects, or if groups differ or if one variable predicts another. In short, you want to prove if your data is statistically meaningful and unlikely to have occurred by chance only. \n"
     ]
    }
   ],
   "source": [
    "print(\"Q_3_ANS :- Hypothesis :- Hypothesis Testing is a type of statistical analysis in which you put your assumptions about a population parameter to the test. It is used to estimate the relationship between 2 statistical variables.\\nIt is used to find  conclution.\\nIt is how you determine if something happened, or if particular treatments have positive effects, or if groups differ or if one variable predicts another. In short, you want to prove if your data is statistically meaningful and unlikely to have occurred by chance only. \")"
   ]
  },
  {
   "cell_type": "code",
   "execution_count": 5,
   "id": "48955a3b-76a5-469f-b8f3-a55b9c02fc50",
   "metadata": {},
   "outputs": [
    {
     "name": "stdout",
     "output_type": "stream",
     "text": [
      "Q_4_ANS :- A hypothesis that states whether the average weight of male college students is greater than the average weight of female college students:\n",
      "\n",
      "Null hypothesis: The average weight of male college students is equal to or less than the average weight of female college students.\n",
      "\n",
      "Alternative hypothesis: The average weight of male college students is greater than the average weight of female college students.\n",
      "\n",
      "In symbols, we can represent the hypotheses as:\n",
      "\n",
      "H0: μmale <= μfemale\n",
      "Ha: μmale > μfemale\n",
      "\n",
      "where H0 represents the null hypothesis, Ha represents the alternative hypothesis, μmale represents the population mean weight of male college students, and μfemale represents the population mean weight of female college students.\n",
      "\n",
      "To test this hypothesis, we could collect a random sample of male and female college students, measure their weights, and use statistical methods to determine whether there is enough evidence to reject the null hypothesis in favor of the alternative hypothesis. \n"
     ]
    }
   ],
   "source": [
    "print(\"Q_4_ANS :- A hypothesis that states whether the average weight of male college students is greater than the average weight of female college students:\\n\\nNull hypothesis: The average weight of male college students is equal to or less than the average weight of female college students.\\n\\nAlternative hypothesis: The average weight of male college students is greater than the average weight of female college students.\\n\\nIn symbols, we can represent the hypotheses as:\\n\\nH0: μmale <= μfemale\\nHa: μmale > μfemale\\n\\nwhere H0 represents the null hypothesis, Ha represents the alternative hypothesis, μmale represents the population mean weight of male college students, and μfemale represents the population mean weight of female college students.\\n\\nTo test this hypothesis, we could collect a random sample of male and female college students, measure their weights, and use statistical methods to determine whether there is enough evidence to reject the null hypothesis in favor of the alternative hypothesis. \")"
   ]
  },
  {
   "cell_type": "code",
   "execution_count": 6,
   "id": "1b478090-6a95-439b-a9a1-251d169477b3",
   "metadata": {},
   "outputs": [
    {
     "name": "stdout",
     "output_type": "stream",
     "text": [
      "Q_5_ANS :-  \n"
     ]
    }
   ],
   "source": [
    "print(\"Q_5_ANS :-  \")"
   ]
  },
  {
   "cell_type": "code",
   "execution_count": 7,
   "id": "5768cc1c-cb76-4796-8cc9-cd1fb1cfd03b",
   "metadata": {},
   "outputs": [
    {
     "name": "stdout",
     "output_type": "stream",
     "text": [
      "Sample 1 Mean: 3.0\n",
      "Sample 2 Mean: 8.0\n",
      "Sample 1 Std Dev: 1.5811388300841898\n",
      "Sample 2 Std Dev: 1.5811388300841898\n",
      "t-value: -5.0\n",
      "p-value: 0.001052825793366539\n"
     ]
    }
   ],
   "source": [
    "import numpy as np\n",
    "from scipy.stats import ttest_ind\n",
    "\n",
    "# Define the two samples\n",
    "sample1 = [1, 2, 3, 4, 5]\n",
    "sample2 = [6, 7, 8, 9, 10]\n",
    "\n",
    "# Calculate the sample means and standard deviations\n",
    "mean1 = np.mean(sample1)\n",
    "mean2 = np.mean(sample2)\n",
    "std_dev1 = np.std(sample1, ddof=1)\n",
    "std_dev2 = np.std(sample2, ddof=1)\n",
    "\n",
    "# Calculate the degrees of freedom\n",
    "df = len(sample1) + len(sample2) - 2\n",
    "\n",
    "# Calculate the t-value and p-value\n",
    "t, p = ttest_ind(sample1, sample2, equal_var=False)\n",
    "\n",
    "# Print the results\n",
    "print(\"Sample 1 Mean:\", mean1)\n",
    "print(\"Sample 2 Mean:\", mean2)\n",
    "print(\"Sample 1 Std Dev:\", std_dev1)\n",
    "print(\"Sample 2 Std Dev:\", std_dev2)\n",
    "print(\"t-value:\", t)\n",
    "print(\"p-value:\", p)\n"
   ]
  },
  {
   "cell_type": "code",
   "execution_count": 8,
   "id": "ac616706-919b-466a-a386-981600b63962",
   "metadata": {},
   "outputs": [
    {
     "name": "stdout",
     "output_type": "stream",
     "text": [
      "Q_6_ANS :- Null hypothesis: The average weight of male college students is equal to or less than the average weight of female college students.\n",
      "\n",
      "Example :- person crime \n",
      "go to court\n",
      "\n",
      "Null Hypothesis(H0) :- the person is guilty.\n",
      "\n",
      "Alternative hypothesis: The average weight of male college students is greater than the average weight of female college students.\n",
      "\n",
      "Alternative Hypothesis(H1) :- the person is not guilty.  \n"
     ]
    }
   ],
   "source": [
    "print(\"Q_6_ANS :- Null hypothesis: The average weight of male college students is equal to or less than the average weight of female college students.\\n\\nExample :- person crime \\ngo to court\\n\\nNull Hypothesis(H0) :- the person is guilty.\\n\\nAlternative hypothesis: The average weight of male college students is greater than the average weight of female college students.\\n\\nAlternative Hypothesis(H1) :- the person is not guilty.  \")"
   ]
  },
  {
   "cell_type": "code",
   "execution_count": 10,
   "id": "a4fc42ad-408a-446c-ad7f-080015bec216",
   "metadata": {},
   "outputs": [
    {
     "name": "stdout",
     "output_type": "stream",
     "text": [
      "Q_7_ANS :- Steps Involved In Hypothesis Testing Mechanisum :- \n",
      "Step 1. Null Hypothesis(H0)\n",
      "Step 2. Alternative Hypothesis(H1)\n",
      "Step 3. Experiments\n",
      "Step 4. Accept the Null Hypothesis or Reject the Null Hypothesis.\n"
     ]
    }
   ],
   "source": [
    "print(\"Q_7_ANS :- Steps Involved In Hypothesis Testing Mechanisum :- \\nStep 1. Null Hypothesis(H0)\\nStep 2. Alternative Hypothesis(H1)\\nStep 3. Experiments\\nStep 4. Accept the Null Hypothesis or Reject the Null Hypothesis.\")"
   ]
  },
  {
   "cell_type": "code",
   "execution_count": 11,
   "id": "a71251a8-8f25-485e-95b8-bcc2df1680ea",
   "metadata": {},
   "outputs": [
    {
     "name": "stdout",
     "output_type": "stream",
     "text": [
      "Q_8_ANS :- P-Value :- The P value is a number , calculated from a statistical test , that described [how likely you are to have found a perticular set of observation if the null hypothesis were true.] p value are used in hypothesis testiong to help decide whether to reject the null hypothesis.\n",
      "\n",
      "Significance :- In Statistics, “significance” means “not by chance” or “probably true”. We can say that if a statistician declares that some result is “highly significant”, then he indicates by stating that it might be very probably true. It does not mean that the result is highly significant, but it suggests that it is highly probable.\n",
      "\n",
      "The level of significance is defined as the fixed probability of wrong elimination of null hypothesis when in fact, it is true. The level of significance is stated to be the probability of type I error and is preset by the researcher with the outcomes of error. The level of significance is the measurement of the statistical significance. It defines whether the null hypothesis is assumed to be accepted or rejected. It is expected to identify if the result is statistically significant for the null hypothesis to be false or rejected.\n",
      "\n",
      "Level of Significance Symbol\n",
      "\n",
      "The level of significance is denoted by the Greek symbol α (alpha). Therefore, the level of significance is defined as follows:\n",
      "\n",
      "Significance Level = p (type I error) = α\n"
     ]
    }
   ],
   "source": [
    "print(\"Q_8_ANS :- P-Value :- The P value is a number , calculated from a statistical test , that described [how likely you are to have found a perticular set of observation if the null hypothesis were true.] p value are used in hypothesis testiong to help decide whether to reject the null hypothesis.\\n\\nSignificance :- In Statistics, “significance” means “not by chance” or “probably true”. We can say that if a statistician declares that some result is “highly significant”, then he indicates by stating that it might be very probably true. It does not mean that the result is highly significant, but it suggests that it is highly probable.\\n\\nThe level of significance is defined as the fixed probability of wrong elimination of null hypothesis when in fact, it is true. The level of significance is stated to be the probability of type I error and is preset by the researcher with the outcomes of error. The level of significance is the measurement of the statistical significance. It defines whether the null hypothesis is assumed to be accepted or rejected. It is expected to identify if the result is statistically significant for the null hypothesis to be false or rejected.\\n\\nLevel of Significance Symbol\\n\\nThe level of significance is denoted by the Greek symbol α (alpha). Therefore, the level of significance is defined as follows:\\n\\nSignificance Level = p (type I error) = α\")"
   ]
  },
  {
   "cell_type": "code",
   "execution_count": 12,
   "id": "264fa316-579a-4d67-97da-669437cef9bc",
   "metadata": {},
   "outputs": [
    {
     "name": "stdout",
     "output_type": "stream",
     "text": [
      "Q_9_ANS :- \n"
     ]
    }
   ],
   "source": [
    "print(\"Q_9_ANS :- \")"
   ]
  },
  {
   "cell_type": "code",
   "execution_count": 13,
   "id": "ec52f6b9-f4e8-440d-aa50-6944b2987c0a",
   "metadata": {},
   "outputs": [
    {
     "data": {
      "image/png": "[encoded data removed]",
      "text/plain": [
       "<Figure size 640x480 with 1 Axes>"
      ]
     },
     "metadata": {},
     "output_type": "display_data"
    }
   ],
   "source": [
    "import numpy as np\n",
    "import matplotlib.pyplot as plt\n",
    "from scipy.stats import t\n",
    "\n",
    "# Define the degrees of freedom\n",
    "df = 10\n",
    "\n",
    "# Define the x values\n",
    "x = np.linspace(t.ppf(0.001, df), t.ppf(0.999, df), 100)\n",
    "\n",
    "# Define the y values\n",
    "y = t.pdf(x, df)\n",
    "\n",
    "# Create the plot\n",
    "plt.plot(x, y)\n",
    "plt.title(\"Student's t-distribution (df=10)\")\n",
    "plt.xlabel('x')\n",
    "plt.ylabel('PDF')\n",
    "plt.show()\n"
   ]
  },
  {
   "cell_type": "code",
   "execution_count": 14,
   "id": "c166071e-4a68-4feb-b734-cee1001e4be5",
   "metadata": {},
   "outputs": [
    {
     "name": "stdout",
     "output_type": "stream",
     "text": [
      "Q_10_ANS :- \n"
     ]
    }
   ],
   "source": [
    "print(\"Q_10_ANS :- \")"
   ]
  },
  {
   "cell_type": "code",
   "execution_count": 15,
   "id": "48f7f3ad-ea5c-499b-876f-6aa007f3b5fc",
   "metadata": {},
   "outputs": [
    {
     "name": "stdout",
     "output_type": "stream",
     "text": [
      "Null Hypothesis: The population means are equal.\n",
      "Sample 1 Mean: 11.4\n",
      "Sample 2 Mean: 11.0\n",
      "t-value: 0.3104602102825334\n",
      "p-value: 0.7641453232978948\n",
      "The null hypothesis cannot be rejected.\n"
     ]
    }
   ],
   "source": [
    "import numpy as np\n",
    "from scipy.stats import ttest_ind\n",
    "\n",
    "# Define the two random samples\n",
    "sample1 = np.array([10, 12, 8, 13, 14])\n",
    "sample2 = np.array([11, 9, 12, 10, 13])\n",
    "\n",
    "# Define the null hypothesis\n",
    "null_hypothesis = \"The population means are equal.\"\n",
    "\n",
    "# Calculate the t-value and p-value\n",
    "t, p = ttest_ind(sample1, sample2, equal_var=True)\n",
    "\n",
    "# Define the alpha level\n",
    "alpha = 0.05\n",
    "\n",
    "# Print the results\n",
    "print(\"Null Hypothesis:\", null_hypothesis)\n",
    "print(\"Sample 1 Mean:\", np.mean(sample1))\n",
    "print(\"Sample 2 Mean:\", np.mean(sample2))\n",
    "print(\"t-value:\", t)\n",
    "print(\"p-value:\", p)\n",
    "if p < alpha:\n",
    "    print(\"The null hypothesis is rejected.\")\n",
    "else:\n",
    "    print(\"The null hypothesis cannot be rejected.\")\n"
   ]
  },
  {
   "cell_type": "code",
   "execution_count": 17,
   "id": "1b6be3be-fed9-4bf8-8d13-7f8b03e04ae8",
   "metadata": {},
   "outputs": [
    {
     "name": "stdout",
     "output_type": "stream",
     "text": [
      "Q_11_ANS :-Student's t-distribution:- The probability density function is symmetric, and its overall shape resembles the bell shape of a normally distributed variable with mean 0 and variance 1, except that it is a bit lower and wider. As the number of degrees of freedom grows, the t-distribution approaches the normal distribution with mean 0 and variance 1. For this reason v is also known as the normality parameter.[15]\n",
      "\n",
      "Statsitcal Analysis using Z-Score - we need population standard devition.\n"
     ]
    }
   ],
   "source": [
    "print(\"Q_11_ANS :-Student's t-distribution:- The probability density function is symmetric, and its overall shape resembles the bell shape of a normally distributed variable with mean 0 and variance 1, except that it is a bit lower and wider. As the number of degrees of freedom grows, the t-distribution approaches the normal distribution with mean 0 and variance 1. For this reason v is also known as the normality parameter.[15]\\n\\nStatsitcal Analysis using Z-Score - we need population standard devition.\")"
   ]
  },
  {
   "cell_type": "code",
   "execution_count": 18,
   "id": "64494bf6-90ad-493f-8e3d-ddd3bc456138",
   "metadata": {},
   "outputs": [
    {
     "name": "stdout",
     "output_type": "stream",
     "text": [
      "Q_12_ANS :- t - statistic :- In statistics, the t-statistic is the ratio of the departure of the estimated value of a parameter from its hypothesized value to its standard error. It is used in hypothesis testing via Student's t-test. The t-statistic is used in a t-test to determine whether to support or reject the null hypothesis. It is very similar to the z-score but with the difference that t-statistic is used when the sample size is small or the population standard deviation is unknown.\n",
      "\n",
      "You can calculate a t-value using a common t-test with the formula:\n",
      "\n",
      " t = (X‾ - μ0) / (s / √n)\n",
      "\n",
      "where X‾ is the sample mean, μ0 represents the population mean, s is the standard deviation of the sample and n stands for the size of the sample.\n"
     ]
    }
   ],
   "source": [
    "print(\"Q_12_ANS :- t - statistic :- In statistics, the t-statistic is the ratio of the departure of the estimated value of a parameter from its hypothesized value to its standard error. It is used in hypothesis testing via Student's t-test. The t-statistic is used in a t-test to determine whether to support or reject the null hypothesis. It is very similar to the z-score but with the difference that t-statistic is used when the sample size is small or the population standard deviation is unknown.\\n\\nYou can calculate a t-value using a common t-test with the formula:\\n\\n t = (X‾ - μ0) / (s / √n)\\n\\nwhere X‾ is the sample mean, μ0 represents the population mean, s is the standard deviation of the sample and n stands for the size of the sample.\")"
   ]
  },
  {
   "cell_type": "code",
   "execution_count": 19,
   "id": "e10e38cf-0f49-4ffc-a6a9-52b35d240d4e",
   "metadata": {},
   "outputs": [
    {
     "name": "stdout",
     "output_type": "stream",
     "text": [
      "Q_13_ANS :- \n"
     ]
    }
   ],
   "source": [
    "print(\"Q_13_ANS :- \")"
   ]
  },
  {
   "cell_type": "code",
   "execution_count": 20,
   "id": "8eb94357-3339-428f-9eb1-211f3fe10582",
   "metadata": {},
   "outputs": [
    {
     "name": "stdout",
     "output_type": "stream",
     "text": [
      "Sample Mean Revenue: 500\n",
      "Sample Standard Deviation: 50\n",
      "Degrees of Freedom: 49\n",
      "t-value for 95% CI: 2.009575234489209\n",
      "95% Confidence Interval: (485.79015724388137, 514.2098427561186)\n"
     ]
    }
   ],
   "source": [
    "import numpy as np\n",
    "from scipy.stats import t\n",
    "\n",
    "# Define the sample data\n",
    "n = 50\n",
    "x_bar = 500\n",
    "s = 50\n",
    "\n",
    "# Define the confidence level and degrees of freedom\n",
    "alpha = 0.05\n",
    "df = n - 1\n",
    "\n",
    "# Calculate the t-value for the confidence interval\n",
    "t_value = t.ppf(1 - alpha/2, df)\n",
    "\n",
    "# Calculate the confidence interval\n",
    "CI = (x_bar - t_value * (s / np.sqrt(n)), x_bar + t_value * (s / np.sqrt(n)))\n",
    "\n",
    "# Print the results\n",
    "print(\"Sample Mean Revenue:\", x_bar)\n",
    "print(\"Sample Standard Deviation:\", s)\n",
    "print(\"Degrees of Freedom:\", df)\n",
    "print(\"t-value for 95% CI:\", t_value)\n",
    "print(\"95% Confidence Interval:\", CI)\n"
   ]
  },
  {
   "cell_type": "code",
   "execution_count": 21,
   "id": "22273314-e97c-4602-b322-fcb40be1c658",
   "metadata": {},
   "outputs": [
    {
     "name": "stdout",
     "output_type": "stream",
     "text": [
      "Q_14_ANS :- \n"
     ]
    }
   ],
   "source": [
    "print(\"Q_14_ANS :- \")"
   ]
  },
  {
   "cell_type": "code",
   "execution_count": 22,
   "id": "233ca2f6-2e26-4766-aac8-b608c1ca1e24",
   "metadata": {},
   "outputs": [
    {
     "name": "stdout",
     "output_type": "stream",
     "text": [
      "Sample Mean Decrease in Blood Pressure: 8\n",
      "Sample Standard Deviation: 3\n",
      "Null Hypothesis Value: 10\n",
      "t-statistic: -6.666666666666667\n",
      "p-value: 7.506144504985108e-10\n",
      "Critical t-value for alpha = 0.05: -1.6603911559963902\n",
      "Reject the null hypothesis. There is evidence that the new drug decreases blood pressure.\n"
     ]
    }
   ],
   "source": [
    "import numpy as np\n",
    "from scipy.stats import t\n",
    "\n",
    "# Define the sample data\n",
    "n = 100\n",
    "x_bar = 8\n",
    "s = 3\n",
    "mu0 = 10  # null hypothesis value\n",
    "\n",
    "# Define the significance level\n",
    "alpha = 0.05\n",
    "\n",
    "# Calculate the t-statistic and p-value\n",
    "t_statistic = (x_bar - mu0) / (s / np.sqrt(n))\n",
    "p_value = t.cdf(t_statistic, df=n-1)\n",
    "\n",
    "# Calculate the critical t-value for the given significance level\n",
    "t_critical = t.ppf(alpha, df=n-1)\n",
    "\n",
    "# Print the results\n",
    "print(\"Sample Mean Decrease in Blood Pressure:\", x_bar)\n",
    "print(\"Sample Standard Deviation:\", s)\n",
    "print(\"Null Hypothesis Value:\", mu0)\n",
    "print(\"t-statistic:\", t_statistic)\n",
    "print(\"p-value:\", p_value)\n",
    "print(\"Critical t-value for alpha = 0.05:\", t_critical)\n",
    "\n",
    "# Test the hypothesis\n",
    "if t_statistic < t_critical:\n",
    "    print(\"Reject the null hypothesis. There is evidence that the new drug decreases blood pressure.\")\n",
    "else:\n",
    "    print(\"Fail to reject the null hypothesis. There is insufficient evidence that the new drug decreases blood pressure.\")\n"
   ]
  },
  {
   "cell_type": "code",
   "execution_count": 23,
   "id": "c649b081-9dcd-4aeb-9156-3d7c8d227fd0",
   "metadata": {},
   "outputs": [
    {
     "name": "stdout",
     "output_type": "stream",
     "text": [
      "Q_15_ANS :- \n"
     ]
    }
   ],
   "source": [
    "print(\"Q_15_ANS :- \")"
   ]
  },
  {
   "cell_type": "code",
   "execution_count": 24,
   "id": "5ff25a9b-de93-452b-9cdf-2b71acd14854",
   "metadata": {},
   "outputs": [
    {
     "name": "stdout",
     "output_type": "stream",
     "text": [
      "Sample Mean Weight: 4.8\n",
      "Sample Standard Deviation: 0.5\n",
      "Null Hypothesis Value: 5\n",
      "t-statistic: -2.0000000000000018\n",
      "p-value: 0.02846992496829572\n",
      "Critical t-value for alpha = 0.01: -2.4921594731575762\n",
      "Fail to reject the null hypothesis. There is insufficient evidence that the true mean weight of the products is less than 5 pounds.\n"
     ]
    }
   ],
   "source": [
    "import numpy as np\n",
    "from scipy.stats import t\n",
    "\n",
    "# Define the sample data\n",
    "n = 25\n",
    "x_bar = 4.8\n",
    "s = 0.5\n",
    "mu0 = 5  # null hypothesis value\n",
    "\n",
    "# Define the significance level\n",
    "alpha = 0.01\n",
    "\n",
    "# Calculate the t-statistic and p-value\n",
    "t_statistic = (x_bar - mu0) / (s / np.sqrt(n))\n",
    "p_value = t.cdf(t_statistic, df=n-1)\n",
    "\n",
    "# Calculate the critical t-value for the given significance level\n",
    "t_critical = t.ppf(alpha, df=n-1)\n",
    "\n",
    "# Print the results\n",
    "print(\"Sample Mean Weight:\", x_bar)\n",
    "print(\"Sample Standard Deviation:\", s)\n",
    "print(\"Null Hypothesis Value:\", mu0)\n",
    "print(\"t-statistic:\", t_statistic)\n",
    "print(\"p-value:\", p_value)\n",
    "print(\"Critical t-value for alpha = 0.01:\", t_critical)\n",
    "\n",
    "# Test the hypothesis\n",
    "if t_statistic < t_critical:\n",
    "    print(\"Reject the null hypothesis. There is evidence that the true mean weight of the products is less than 5 pounds.\")\n",
    "else:\n",
    "    print(\"Fail to reject the null hypothesis. There is insufficient evidence that the true mean weight of the products is less than 5 pounds.\")\n"
   ]
  },
  {
   "cell_type": "code",
   "execution_count": 25,
   "id": "57f064e9-b40d-4913-b247-e8562d02a4d4",
   "metadata": {},
   "outputs": [
    {
     "name": "stdout",
     "output_type": "stream",
     "text": [
      "Q_16_ANS :- \n"
     ]
    }
   ],
   "source": [
    "print(\"Q_16_ANS :- \")"
   ]
  },
  {
   "cell_type": "code",
   "execution_count": 26,
   "id": "6c56c558-7170-4301-beab-9fe1c2578655",
   "metadata": {},
   "outputs": [
    {
     "name": "stdout",
     "output_type": "stream",
     "text": [
      "Sample 1 Mean Score: 80\n",
      "Sample 1 Standard Deviation: 10\n",
      "Sample 1 Size: 30\n",
      "Sample 2 Mean Score: 75\n",
      "Sample 2 Standard Deviation: 8\n",
      "Sample 2 Size: 40\n",
      "Null Hypothesis: The population means are equal\n",
      "t-statistic: 2.3239677296992913\n",
      "p-value: 0.023123013413725912\n",
      "Critical t-value for alpha = 0.01 and 68 degrees of freedom: -2.6500812928169557\n",
      "Reject the null hypothesis. There is evidence that the population means are not equal.\n"
     ]
    }
   ],
   "source": [
    "import numpy as np\n",
    "from scipy.stats import t\n",
    "\n",
    "# Define the sample data\n",
    "n1 = 30\n",
    "x1_bar = 80\n",
    "s1 = 10\n",
    "\n",
    "n2 = 40\n",
    "x2_bar = 75\n",
    "s2 = 8\n",
    "\n",
    "# Define the significance level\n",
    "alpha = 0.01\n",
    "\n",
    "# Calculate the pooled standard deviation\n",
    "s_pooled = np.sqrt(((n1-1)*(s1**2) + (n2-1)*(s2**2)) / (n1+n2-2))\n",
    "\n",
    "# Calculate the t-statistic and p-value\n",
    "t_statistic = (x1_bar - x2_bar) / (s_pooled * np.sqrt(1/n1 + 1/n2))\n",
    "p_value = 2 * (1 - t.cdf(abs(t_statistic), df=n1+n2-2))\n",
    "\n",
    "# Calculate the critical t-value for the given significance level and degrees of freedom\n",
    "t_critical = t.ppf(alpha/2, df=n1+n2-2)\n",
    "\n",
    "# Print the results\n",
    "print(\"Sample 1 Mean Score:\", x1_bar)\n",
    "print(\"Sample 1 Standard Deviation:\", s1)\n",
    "print(\"Sample 1 Size:\", n1)\n",
    "print(\"Sample 2 Mean Score:\", x2_bar)\n",
    "print(\"Sample 2 Standard Deviation:\", s2)\n",
    "print(\"Sample 2 Size:\", n2)\n",
    "print(\"Null Hypothesis: The population means are equal\")\n",
    "print(\"t-statistic:\", t_statistic)\n",
    "print(\"p-value:\", p_value)\n",
    "print(\"Critical t-value for alpha = 0.01 and 68 degrees of freedom:\", t_critical)\n",
    "\n",
    "# Test the hypothesis\n",
    "if abs(t_statistic) > t_critical:\n",
    "    print(\"Reject the null hypothesis. There is evidence that the population means are not equal.\")\n",
    "else:\n",
    "    print(\"Fail to reject the null hypothesis. There is insufficient evidence that the population means are not equal.\")\n"
   ]
  },
  {
   "cell_type": "code",
   "execution_count": 29,
   "id": "9d5b20ef-752d-4326-956d-b2429e79254a",
   "metadata": {},
   "outputs": [
    {
     "name": "stdout",
     "output_type": "stream",
     "text": [
      "Q_17_ANS :- To estimate the population mean with a 99% confidence interval, we can use the following formula:\n",
      "\n",
      "CI = x̄ ± z* (σ/√n) \n"
     ]
    }
   ],
   "source": [
    "print(\"Q_17_ANS :- To estimate the population mean with a 99% confidence interval, we can use the following formula:\\n\\nCI = x̄ ± z* (σ/√n) \")"
   ]
  },
  {
   "cell_type": "code",
   "execution_count": 30,
   "id": "607bb2f5-35c0-474c-9b5a-e25ce2788775",
   "metadata": {},
   "outputs": [
    {
     "name": "stdout",
     "output_type": "stream",
     "text": [
      "The population mean number of ads watched by viewers during a TV program is between (3.4535840896844654, 4.546415910315535)\n"
     ]
    }
   ],
   "source": [
    "import scipy.stats as stats\n",
    "\n",
    "# sample statistics\n",
    "x_bar = 4\n",
    "s = 1.5\n",
    "n = 50\n",
    "\n",
    "# critical value for 99% confidence interval\n",
    "z_star = stats.norm.ppf(0.995) # two-tailed test\n",
    "\n",
    "# confidence interval\n",
    "CI = (x_bar - z_star * (s / (n ** 0.5)), x_bar + z_star * (s / (n ** 0.5)))\n",
    "\n",
    "print(\"The population mean number of ads watched by viewers during a TV program is between\", CI)\n"
   ]
  },
  {
   "cell_type": "code",
   "execution_count": null,
   "id": "2a6abb4f-5109-44c2-8e9c-d43d2a2b4a83",
   "metadata": {},
   "outputs": [],
   "source": []
  }
 ],
 "metadata": {
  "kernelspec": {
   "display_name": "Python 3 (ipykernel)",
   "language": "python",
   "name": "python3"
  },
  "language_info": {
   "codemirror_mode": {
    "name": "ipython",
    "version": 3
   },
   "file_extension": ".py",
   "mimetype": "text/x-python",
   "name": "python",
   "nbconvert_exporter": "python",
   "pygments_lexer": "ipython3",
   "version": "3.10.6"
  }
 },
 "nbformat": 4,
 "nbformat_minor": 5
}
